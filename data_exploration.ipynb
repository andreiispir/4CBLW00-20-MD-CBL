{
 "cells": [
  {
   "cell_type": "code",
   "execution_count": 2,
   "id": "e35ae659",
   "metadata": {},
   "outputs": [],
   "source": [
    "import os\n",
    "import pandas as pd"
   ]
  },
  {
   "cell_type": "markdown",
   "id": "9128adf2",
   "metadata": {},
   "source": [
    "Loading data from the folder"
   ]
  },
  {
   "cell_type": "code",
   "execution_count": 17,
   "id": "0067afa2",
   "metadata": {},
   "outputs": [
    {
     "name": "stdout",
     "output_type": "stream",
     "text": [
      "Processing chunk 1...\n",
      "Processing chunk 2...\n",
      "Processing chunk 3...\n",
      "Processing chunk 4...\n",
      "Processing chunk 5...\n",
      "Processing chunk 6...\n",
      "Processing chunk 7...\n",
      "Processing chunk 8...\n",
      "Processing chunk 9...\n",
      "Processing chunk 10...\n",
      "Processing chunk 11...\n",
      "Processing chunk 12...\n",
      "Processing chunk 13...\n",
      "Processing chunk 14...\n",
      "Processing chunk 15...\n",
      "Processing chunk 16...\n",
      "Processing chunk 17...\n",
      "Processing chunk 18...\n",
      "Processing chunk 19...\n",
      "Processing chunk 20...\n",
      "Processing chunk 21...\n",
      "Processing chunk 22...\n",
      "Processing chunk 23...\n",
      "Processing chunk 24...\n",
      "Processing chunk 25...\n",
      "Processing chunk 26...\n",
      "Processing chunk 27...\n",
      "Processing chunk 28...\n",
      "Processing chunk 29...\n",
      "Processing chunk 30...\n",
      "Processing chunk 31...\n",
      "Processing chunk 32...\n",
      "Processing chunk 33...\n",
      "Processing chunk 34...\n",
      "Processing chunk 35...\n",
      "Processing chunk 36...\n",
      "Processing chunk 37...\n",
      "Processing chunk 38...\n",
      "Processing chunk 39...\n",
      "Processing chunk 40...\n",
      "Processing chunk 41...\n",
      "Processing chunk 42...\n",
      "Processing chunk 43...\n",
      "Processing chunk 44...\n",
      "Processing chunk 45...\n",
      "Processing chunk 46...\n",
      "Processing chunk 47...\n",
      "Processing chunk 48...\n",
      "Processing chunk 49...\n",
      "Processing chunk 50...\n",
      "Processing chunk 51...\n",
      "Processing chunk 52...\n",
      "Processing chunk 53...\n",
      "Processing chunk 54...\n",
      "Processing chunk 55...\n",
      "Processing chunk 56...\n",
      "Processing chunk 57...\n",
      "Processing chunk 58...\n",
      "Processing chunk 59...\n",
      "Processing chunk 60...\n",
      "Processing chunk 61...\n",
      "Processing chunk 62...\n",
      "Processing chunk 63...\n",
      "Processing chunk 64...\n",
      "Processing chunk 65...\n",
      "Processing chunk 66...\n",
      "Processing chunk 67...\n",
      "Processing chunk 68...\n",
      "Processing chunk 69...\n",
      "Processing chunk 70...\n",
      "Processing chunk 71...\n",
      "Processing chunk 72...\n",
      "Processing chunk 73...\n",
      "Processing chunk 74...\n",
      "Processing chunk 75...\n",
      "Processing chunk 76...\n",
      "Processing chunk 77...\n",
      "Processing chunk 78...\n",
      "Processing chunk 79...\n",
      "Processing chunk 80...\n",
      "Processing chunk 81...\n",
      "Processing chunk 82...\n",
      "Processing chunk 83...\n",
      "Processing chunk 84...\n",
      "Processing chunk 85...\n",
      "Processing chunk 86...\n",
      "Processing chunk 87...\n",
      "Processing chunk 88...\n",
      "Processing chunk 89...\n",
      "Processing chunk 90...\n",
      "Processing chunk 91...\n",
      "Processing chunk 92...\n",
      "Processing chunk 93...\n",
      "Processing chunk 94...\n",
      "Processing chunk 95...\n",
      "Processing chunk 96...\n",
      "Processing chunk 97...\n",
      "Processing chunk 98...\n",
      "Processing chunk 99...\n",
      "Processing chunk 100...\n",
      "Loaded 27205378 good rows.\n",
      "Skipped 0 bad rows.\n"
     ]
    }
   ],
   "source": [
    "# Setting up path to load file\n",
    "current_dir = os.getcwd()\n",
    "csv_filename = 'data.csv'  \n",
    "csv_path = os.path.join(current_dir, csv_filename)\n",
    "\n",
    "# Initialize counter\n",
    "bad_line_counter = 0\n",
    "\n",
    "# Define a function to handle bad lines\n",
    "def handle_bad_line(bad_line):\n",
    "    global bad_line_counter\n",
    "    bad_line_counter += 1\n",
    "    return None  # Skip the bad line\n",
    "\n",
    "# Read it in chunks due to huge size\n",
    "chunk_size = 1_500_000\n",
    "\n",
    "# Keep only relevant columns, remove ones with lots of NaN values\n",
    "# LSOA name removed due to redundance\n",
    "# Last outcome category removed due to high number of NaN values: 87 482 715 / 149 351 274 \n",
    "# Context removed due to high number of NaN values: 144 750 473 / 149 351 274 \n",
    "# Crime ID removed due to high number of NaN values: 5 781 005 / 27 205 384 (London)\n",
    "\n",
    "columns_to_keep = ['Month', 'Falls within', 'Reported by', 'Latitude', 'Longitude', 'Location', 'LSOA code', 'Crime type']\n",
    "chunks = pd.read_csv(csv_path, \n",
    "                     chunksize=chunk_size,\n",
    "                     usecols=columns_to_keep,\n",
    "                     engine='python', \n",
    "                     on_bad_lines=handle_bad_line)\n",
    "\n",
    "dfs = []\n",
    "for i, chunk in enumerate(chunks):\n",
    "\n",
    "    # Removing NaN values from certain columns\n",
    "    # Coordinates because it is not possible to find out then if it is in london or not\n",
    "    # LSOA because it is only 6 values from London, hard to later assign police officers\n",
    "    chunk = chunk.dropna(subset=['Latitude', 'Longitude', 'LSOA code'])\n",
    "\n",
    "    # Keep only rows inside London's coordinated obtained from Wikipedia\n",
    "    lat_min, lat_max = 51.2867602, 51.6918741\n",
    "    lon_min, lon_max = -0.5103751, 0.3340155\n",
    "\n",
    "    chunk = chunk[\n",
    "        (chunk['Latitude'] >= lat_min) & (chunk['Latitude'] <= lat_max) &\n",
    "        (chunk['Longitude'] >= lon_min) & (chunk['Longitude'] <= lon_max)\n",
    "    ]\n",
    "    # Printing progress\n",
    "    print(f\"Processing chunk {i+1}...\")\n",
    "    dfs.append(chunk)\n",
    "\n",
    "df_london = pd.concat(dfs, ignore_index=True)\n",
    "\n",
    "print(f\"Loaded {len(df_london)} good rows.\")\n",
    "print(f\"Skipped {bad_line_counter} bad rows.\")"
   ]
  },
  {
   "cell_type": "markdown",
   "id": "04413b42",
   "metadata": {},
   "source": [
    "Printing head to see the Data Frame"
   ]
  },
  {
   "cell_type": "code",
   "execution_count": 18,
   "id": "94028829",
   "metadata": {},
   "outputs": [
    {
     "data": {
      "text/html": [
       "<div>\n",
       "<style scoped>\n",
       "    .dataframe tbody tr th:only-of-type {\n",
       "        vertical-align: middle;\n",
       "    }\n",
       "\n",
       "    .dataframe tbody tr th {\n",
       "        vertical-align: top;\n",
       "    }\n",
       "\n",
       "    .dataframe thead th {\n",
       "        text-align: right;\n",
       "    }\n",
       "</style>\n",
       "<table border=\"1\" class=\"dataframe\">\n",
       "  <thead>\n",
       "    <tr style=\"text-align: right;\">\n",
       "      <th></th>\n",
       "      <th>Month</th>\n",
       "      <th>Reported by</th>\n",
       "      <th>Falls within</th>\n",
       "      <th>Longitude</th>\n",
       "      <th>Latitude</th>\n",
       "      <th>Location</th>\n",
       "      <th>LSOA code</th>\n",
       "      <th>Crime type</th>\n",
       "    </tr>\n",
       "  </thead>\n",
       "  <tbody>\n",
       "    <tr>\n",
       "      <th>0</th>\n",
       "      <td>2010-12</td>\n",
       "      <td>British Transport Police</td>\n",
       "      <td>British Transport Police</td>\n",
       "      <td>0.165776</td>\n",
       "      <td>51.5442</td>\n",
       "      <td>On or near Dagenham East</td>\n",
       "      <td>E01000036</td>\n",
       "      <td>Anti-social behaviour</td>\n",
       "    </tr>\n",
       "    <tr>\n",
       "      <th>1</th>\n",
       "      <td>2010-12</td>\n",
       "      <td>British Transport Police</td>\n",
       "      <td>British Transport Police</td>\n",
       "      <td>0.165776</td>\n",
       "      <td>51.5442</td>\n",
       "      <td>On or near Dagenham East</td>\n",
       "      <td>E01000036</td>\n",
       "      <td>Anti-social behaviour</td>\n",
       "    </tr>\n",
       "    <tr>\n",
       "      <th>2</th>\n",
       "      <td>2010-12</td>\n",
       "      <td>British Transport Police</td>\n",
       "      <td>British Transport Police</td>\n",
       "      <td>0.165776</td>\n",
       "      <td>51.5442</td>\n",
       "      <td>On or near Dagenham East</td>\n",
       "      <td>E01000036</td>\n",
       "      <td>Violent crime</td>\n",
       "    </tr>\n",
       "    <tr>\n",
       "      <th>3</th>\n",
       "      <td>2010-12</td>\n",
       "      <td>British Transport Police</td>\n",
       "      <td>British Transport Police</td>\n",
       "      <td>0.165776</td>\n",
       "      <td>51.5442</td>\n",
       "      <td>On or near Dagenham East</td>\n",
       "      <td>E01000036</td>\n",
       "      <td>Violent crime</td>\n",
       "    </tr>\n",
       "    <tr>\n",
       "      <th>4</th>\n",
       "      <td>2010-12</td>\n",
       "      <td>British Transport Police</td>\n",
       "      <td>British Transport Police</td>\n",
       "      <td>0.165776</td>\n",
       "      <td>51.5442</td>\n",
       "      <td>On or near Dagenham East</td>\n",
       "      <td>E01000036</td>\n",
       "      <td>Violent crime</td>\n",
       "    </tr>\n",
       "  </tbody>\n",
       "</table>\n",
       "</div>"
      ],
      "text/plain": [
       "     Month               Reported by              Falls within  Longitude  \\\n",
       "0  2010-12  British Transport Police  British Transport Police   0.165776   \n",
       "1  2010-12  British Transport Police  British Transport Police   0.165776   \n",
       "2  2010-12  British Transport Police  British Transport Police   0.165776   \n",
       "3  2010-12  British Transport Police  British Transport Police   0.165776   \n",
       "4  2010-12  British Transport Police  British Transport Police   0.165776   \n",
       "\n",
       "   Latitude                  Location  LSOA code             Crime type  \n",
       "0   51.5442  On or near Dagenham East  E01000036  Anti-social behaviour  \n",
       "1   51.5442  On or near Dagenham East  E01000036  Anti-social behaviour  \n",
       "2   51.5442  On or near Dagenham East  E01000036          Violent crime  \n",
       "3   51.5442  On or near Dagenham East  E01000036          Violent crime  \n",
       "4   51.5442  On or near Dagenham East  E01000036          Violent crime  "
      ]
     },
     "execution_count": 18,
     "metadata": {},
     "output_type": "execute_result"
    }
   ],
   "source": [
    "df_london.head()"
   ]
  },
  {
   "cell_type": "markdown",
   "id": "8d1535cd",
   "metadata": {},
   "source": [
    "Counting NaN values "
   ]
  },
  {
   "cell_type": "code",
   "execution_count": 19,
   "id": "2273b221",
   "metadata": {},
   "outputs": [
    {
     "data": {
      "text/plain": [
       "{'Month': 0,\n",
       " 'Reported by': 0,\n",
       " 'Falls within': 0,\n",
       " 'Longitude': 0,\n",
       " 'Latitude': 0,\n",
       " 'Location': 0,\n",
       " 'LSOA code': 0,\n",
       " 'Crime type': 0}"
      ]
     },
     "execution_count": 19,
     "metadata": {},
     "output_type": "execute_result"
    }
   ],
   "source": [
    "def count_nans(df):\n",
    "    \"\"\"\n",
    "    Count NaN values in each column of a df object\n",
    "    Input:\n",
    "    - df: df object obtained from data\n",
    "    Returns:\n",
    "    - dictionary with numbers of NaN values for each column\n",
    "    \"\"\"\n",
    "    nan_counts = df.isna().sum().to_dict()\n",
    "    return nan_counts\n",
    "\n",
    "count_nans(df_london)"
   ]
  },
  {
   "cell_type": "markdown",
   "id": "189218fe",
   "metadata": {},
   "source": [
    "Data exploration space"
   ]
  },
  {
   "cell_type": "code",
   "execution_count": 20,
   "id": "5fedad88",
   "metadata": {},
   "outputs": [
    {
     "data": {
      "text/plain": [
       "37"
      ]
     },
     "execution_count": 20,
     "metadata": {},
     "output_type": "execute_result"
    }
   ],
   "source": [
    "# Checking certain column's unique values\n",
    "column_name = 'Falls within'\n",
    "counts = df_london[column_name].value_counts(dropna=False).to_dict()\n",
    "len(counts)"
   ]
  },
  {
   "cell_type": "code",
   "execution_count": 22,
   "id": "acd982dc",
   "metadata": {},
   "outputs": [
    {
     "data": {
      "text/plain": [
       "27205378"
      ]
     },
     "execution_count": 22,
     "metadata": {},
     "output_type": "execute_result"
    }
   ],
   "source": [
    "# Check length\n",
    "len(df_london)"
   ]
  },
  {
   "cell_type": "code",
   "execution_count": 23,
   "id": "f274a8ae",
   "metadata": {},
   "outputs": [
    {
     "data": {
      "text/plain": [
       "492"
      ]
     },
     "execution_count": 23,
     "metadata": {},
     "output_type": "execute_result"
    }
   ],
   "source": [
    "# Check where 'Reported by' and 'Falls within' are different\n",
    "different_rows = df_london[df_london['Reported by'] != df_london['Falls within']]\n",
    "\n",
    "# Print how number of different rows\n",
    "len(different_rows)"
   ]
  },
  {
   "cell_type": "code",
   "execution_count": 25,
   "id": "76595f85",
   "metadata": {},
   "outputs": [
    {
     "name": "stdout",
     "output_type": "stream",
     "text": [
      "{'Surrey Police': 'City of London Police'}\n"
     ]
    }
   ],
   "source": [
    "# Select rows where 'Reported by' and 'Falls within' are different\n",
    "different_rows = df_london[df_london['Reported by'] != df_london['Falls within']]\n",
    "\n",
    "# Create a dictionary: {Reported by : Falls within}\n",
    "diff_dict = dict(zip(different_rows['Reported by'], different_rows['Falls within']))\n",
    "\n",
    "# Print results\n",
    "print(diff_dict)\n"
   ]
  },
  {
   "cell_type": "code",
   "execution_count": 26,
   "id": "cdd1fa4a",
   "metadata": {},
   "outputs": [],
   "source": [
    "# Removing Reported by column due to redundancy, every value that was 'Surrey Police' will now be 'City of London Police'\n",
    "df_london = df_london.drop(columns=['Reported by'])\n",
    "cleaned_london_data = df_london.rename(columns={'Falls within': 'Falls within/Reported by'})"
   ]
  },
  {
   "cell_type": "markdown",
   "id": "01dfcbd1",
   "metadata": {},
   "source": [
    "Converting df into csv file for storage"
   ]
  },
  {
   "cell_type": "code",
   "execution_count": 27,
   "id": "6b4d6eda",
   "metadata": {},
   "outputs": [
    {
     "ename": "KeyboardInterrupt",
     "evalue": "",
     "output_type": "error",
     "traceback": [
      "\u001b[31m---------------------------------------------------------------------------\u001b[39m",
      "\u001b[31mKeyboardInterrupt\u001b[39m                         Traceback (most recent call last)",
      "\u001b[36mCell\u001b[39m\u001b[36m \u001b[39m\u001b[32mIn[27]\u001b[39m\u001b[32m, line 1\u001b[39m\n\u001b[32m----> \u001b[39m\u001b[32m1\u001b[39m \u001b[43mcleaned_london_data\u001b[49m\u001b[43m.\u001b[49m\u001b[43mto_csv\u001b[49m\u001b[43m(\u001b[49m\u001b[33;43m'\u001b[39;49m\u001b[33;43mlondon_data.csv\u001b[39;49m\u001b[33;43m'\u001b[39;49m\u001b[43m,\u001b[49m\u001b[43m \u001b[49m\u001b[43mindex\u001b[49m\u001b[43m=\u001b[49m\u001b[38;5;28;43;01mFalse\u001b[39;49;00m\u001b[43m)\u001b[49m\n",
      "\u001b[36mFile \u001b[39m\u001b[32mc:\\Users\\20232645\\AppData\\Local\\Programs\\Python\\Python311\\Lib\\site-packages\\pandas\\util\\_decorators.py:333\u001b[39m, in \u001b[36mdeprecate_nonkeyword_arguments.<locals>.decorate.<locals>.wrapper\u001b[39m\u001b[34m(*args, **kwargs)\u001b[39m\n\u001b[32m    327\u001b[39m \u001b[38;5;28;01mif\u001b[39;00m \u001b[38;5;28mlen\u001b[39m(args) > num_allow_args:\n\u001b[32m    328\u001b[39m     warnings.warn(\n\u001b[32m    329\u001b[39m         msg.format(arguments=_format_argument_list(allow_args)),\n\u001b[32m    330\u001b[39m         \u001b[38;5;167;01mFutureWarning\u001b[39;00m,\n\u001b[32m    331\u001b[39m         stacklevel=find_stack_level(),\n\u001b[32m    332\u001b[39m     )\n\u001b[32m--> \u001b[39m\u001b[32m333\u001b[39m \u001b[38;5;28;01mreturn\u001b[39;00m \u001b[43mfunc\u001b[49m\u001b[43m(\u001b[49m\u001b[43m*\u001b[49m\u001b[43margs\u001b[49m\u001b[43m,\u001b[49m\u001b[43m \u001b[49m\u001b[43m*\u001b[49m\u001b[43m*\u001b[49m\u001b[43mkwargs\u001b[49m\u001b[43m)\u001b[49m\n",
      "\u001b[36mFile \u001b[39m\u001b[32mc:\\Users\\20232645\\AppData\\Local\\Programs\\Python\\Python311\\Lib\\site-packages\\pandas\\core\\generic.py:3967\u001b[39m, in \u001b[36mNDFrame.to_csv\u001b[39m\u001b[34m(self, path_or_buf, sep, na_rep, float_format, columns, header, index, index_label, mode, encoding, compression, quoting, quotechar, lineterminator, chunksize, date_format, doublequote, escapechar, decimal, errors, storage_options)\u001b[39m\n\u001b[32m   3956\u001b[39m df = \u001b[38;5;28mself\u001b[39m \u001b[38;5;28;01mif\u001b[39;00m \u001b[38;5;28misinstance\u001b[39m(\u001b[38;5;28mself\u001b[39m, ABCDataFrame) \u001b[38;5;28;01melse\u001b[39;00m \u001b[38;5;28mself\u001b[39m.to_frame()\n\u001b[32m   3958\u001b[39m formatter = DataFrameFormatter(\n\u001b[32m   3959\u001b[39m     frame=df,\n\u001b[32m   3960\u001b[39m     header=header,\n\u001b[32m   (...)\u001b[39m\u001b[32m   3964\u001b[39m     decimal=decimal,\n\u001b[32m   3965\u001b[39m )\n\u001b[32m-> \u001b[39m\u001b[32m3967\u001b[39m \u001b[38;5;28;01mreturn\u001b[39;00m \u001b[43mDataFrameRenderer\u001b[49m\u001b[43m(\u001b[49m\u001b[43mformatter\u001b[49m\u001b[43m)\u001b[49m\u001b[43m.\u001b[49m\u001b[43mto_csv\u001b[49m\u001b[43m(\u001b[49m\n\u001b[32m   3968\u001b[39m \u001b[43m    \u001b[49m\u001b[43mpath_or_buf\u001b[49m\u001b[43m,\u001b[49m\n\u001b[32m   3969\u001b[39m \u001b[43m    \u001b[49m\u001b[43mlineterminator\u001b[49m\u001b[43m=\u001b[49m\u001b[43mlineterminator\u001b[49m\u001b[43m,\u001b[49m\n\u001b[32m   3970\u001b[39m \u001b[43m    \u001b[49m\u001b[43msep\u001b[49m\u001b[43m=\u001b[49m\u001b[43msep\u001b[49m\u001b[43m,\u001b[49m\n\u001b[32m   3971\u001b[39m \u001b[43m    \u001b[49m\u001b[43mencoding\u001b[49m\u001b[43m=\u001b[49m\u001b[43mencoding\u001b[49m\u001b[43m,\u001b[49m\n\u001b[32m   3972\u001b[39m \u001b[43m    \u001b[49m\u001b[43merrors\u001b[49m\u001b[43m=\u001b[49m\u001b[43merrors\u001b[49m\u001b[43m,\u001b[49m\n\u001b[32m   3973\u001b[39m \u001b[43m    \u001b[49m\u001b[43mcompression\u001b[49m\u001b[43m=\u001b[49m\u001b[43mcompression\u001b[49m\u001b[43m,\u001b[49m\n\u001b[32m   3974\u001b[39m \u001b[43m    \u001b[49m\u001b[43mquoting\u001b[49m\u001b[43m=\u001b[49m\u001b[43mquoting\u001b[49m\u001b[43m,\u001b[49m\n\u001b[32m   3975\u001b[39m \u001b[43m    \u001b[49m\u001b[43mcolumns\u001b[49m\u001b[43m=\u001b[49m\u001b[43mcolumns\u001b[49m\u001b[43m,\u001b[49m\n\u001b[32m   3976\u001b[39m \u001b[43m    \u001b[49m\u001b[43mindex_label\u001b[49m\u001b[43m=\u001b[49m\u001b[43mindex_label\u001b[49m\u001b[43m,\u001b[49m\n\u001b[32m   3977\u001b[39m \u001b[43m    \u001b[49m\u001b[43mmode\u001b[49m\u001b[43m=\u001b[49m\u001b[43mmode\u001b[49m\u001b[43m,\u001b[49m\n\u001b[32m   3978\u001b[39m \u001b[43m    \u001b[49m\u001b[43mchunksize\u001b[49m\u001b[43m=\u001b[49m\u001b[43mchunksize\u001b[49m\u001b[43m,\u001b[49m\n\u001b[32m   3979\u001b[39m \u001b[43m    \u001b[49m\u001b[43mquotechar\u001b[49m\u001b[43m=\u001b[49m\u001b[43mquotechar\u001b[49m\u001b[43m,\u001b[49m\n\u001b[32m   3980\u001b[39m \u001b[43m    \u001b[49m\u001b[43mdate_format\u001b[49m\u001b[43m=\u001b[49m\u001b[43mdate_format\u001b[49m\u001b[43m,\u001b[49m\n\u001b[32m   3981\u001b[39m \u001b[43m    \u001b[49m\u001b[43mdoublequote\u001b[49m\u001b[43m=\u001b[49m\u001b[43mdoublequote\u001b[49m\u001b[43m,\u001b[49m\n\u001b[32m   3982\u001b[39m \u001b[43m    \u001b[49m\u001b[43mescapechar\u001b[49m\u001b[43m=\u001b[49m\u001b[43mescapechar\u001b[49m\u001b[43m,\u001b[49m\n\u001b[32m   3983\u001b[39m \u001b[43m    \u001b[49m\u001b[43mstorage_options\u001b[49m\u001b[43m=\u001b[49m\u001b[43mstorage_options\u001b[49m\u001b[43m,\u001b[49m\n\u001b[32m   3984\u001b[39m \u001b[43m\u001b[49m\u001b[43m)\u001b[49m\n",
      "\u001b[36mFile \u001b[39m\u001b[32mc:\\Users\\20232645\\AppData\\Local\\Programs\\Python\\Python311\\Lib\\site-packages\\pandas\\io\\formats\\format.py:1014\u001b[39m, in \u001b[36mDataFrameRenderer.to_csv\u001b[39m\u001b[34m(self, path_or_buf, encoding, sep, columns, index_label, mode, compression, quoting, quotechar, lineterminator, chunksize, date_format, doublequote, escapechar, errors, storage_options)\u001b[39m\n\u001b[32m    993\u001b[39m     created_buffer = \u001b[38;5;28;01mFalse\u001b[39;00m\n\u001b[32m    995\u001b[39m csv_formatter = CSVFormatter(\n\u001b[32m    996\u001b[39m     path_or_buf=path_or_buf,\n\u001b[32m    997\u001b[39m     lineterminator=lineterminator,\n\u001b[32m   (...)\u001b[39m\u001b[32m   1012\u001b[39m     formatter=\u001b[38;5;28mself\u001b[39m.fmt,\n\u001b[32m   1013\u001b[39m )\n\u001b[32m-> \u001b[39m\u001b[32m1014\u001b[39m \u001b[43mcsv_formatter\u001b[49m\u001b[43m.\u001b[49m\u001b[43msave\u001b[49m\u001b[43m(\u001b[49m\u001b[43m)\u001b[49m\n\u001b[32m   1016\u001b[39m \u001b[38;5;28;01mif\u001b[39;00m created_buffer:\n\u001b[32m   1017\u001b[39m     \u001b[38;5;28;01massert\u001b[39;00m \u001b[38;5;28misinstance\u001b[39m(path_or_buf, StringIO)\n",
      "\u001b[36mFile \u001b[39m\u001b[32mc:\\Users\\20232645\\AppData\\Local\\Programs\\Python\\Python311\\Lib\\site-packages\\pandas\\io\\formats\\csvs.py:270\u001b[39m, in \u001b[36mCSVFormatter.save\u001b[39m\u001b[34m(self)\u001b[39m\n\u001b[32m    251\u001b[39m \u001b[38;5;28;01mwith\u001b[39;00m get_handle(\n\u001b[32m    252\u001b[39m     \u001b[38;5;28mself\u001b[39m.filepath_or_buffer,\n\u001b[32m    253\u001b[39m     \u001b[38;5;28mself\u001b[39m.mode,\n\u001b[32m   (...)\u001b[39m\u001b[32m    258\u001b[39m ) \u001b[38;5;28;01mas\u001b[39;00m handles:\n\u001b[32m    259\u001b[39m     \u001b[38;5;66;03m# Note: self.encoding is irrelevant here\u001b[39;00m\n\u001b[32m    260\u001b[39m     \u001b[38;5;28mself\u001b[39m.writer = csvlib.writer(\n\u001b[32m    261\u001b[39m         handles.handle,\n\u001b[32m    262\u001b[39m         lineterminator=\u001b[38;5;28mself\u001b[39m.lineterminator,\n\u001b[32m   (...)\u001b[39m\u001b[32m    267\u001b[39m         quotechar=\u001b[38;5;28mself\u001b[39m.quotechar,\n\u001b[32m    268\u001b[39m     )\n\u001b[32m--> \u001b[39m\u001b[32m270\u001b[39m     \u001b[38;5;28;43mself\u001b[39;49m\u001b[43m.\u001b[49m\u001b[43m_save\u001b[49m\u001b[43m(\u001b[49m\u001b[43m)\u001b[49m\n",
      "\u001b[36mFile \u001b[39m\u001b[32mc:\\Users\\20232645\\AppData\\Local\\Programs\\Python\\Python311\\Lib\\site-packages\\pandas\\io\\formats\\csvs.py:275\u001b[39m, in \u001b[36mCSVFormatter._save\u001b[39m\u001b[34m(self)\u001b[39m\n\u001b[32m    273\u001b[39m \u001b[38;5;28;01mif\u001b[39;00m \u001b[38;5;28mself\u001b[39m._need_to_save_header:\n\u001b[32m    274\u001b[39m     \u001b[38;5;28mself\u001b[39m._save_header()\n\u001b[32m--> \u001b[39m\u001b[32m275\u001b[39m \u001b[38;5;28;43mself\u001b[39;49m\u001b[43m.\u001b[49m\u001b[43m_save_body\u001b[49m\u001b[43m(\u001b[49m\u001b[43m)\u001b[49m\n",
      "\u001b[36mFile \u001b[39m\u001b[32mc:\\Users\\20232645\\AppData\\Local\\Programs\\Python\\Python311\\Lib\\site-packages\\pandas\\io\\formats\\csvs.py:313\u001b[39m, in \u001b[36mCSVFormatter._save_body\u001b[39m\u001b[34m(self)\u001b[39m\n\u001b[32m    311\u001b[39m \u001b[38;5;28;01mif\u001b[39;00m start_i >= end_i:\n\u001b[32m    312\u001b[39m     \u001b[38;5;28;01mbreak\u001b[39;00m\n\u001b[32m--> \u001b[39m\u001b[32m313\u001b[39m \u001b[38;5;28;43mself\u001b[39;49m\u001b[43m.\u001b[49m\u001b[43m_save_chunk\u001b[49m\u001b[43m(\u001b[49m\u001b[43mstart_i\u001b[49m\u001b[43m,\u001b[49m\u001b[43m \u001b[49m\u001b[43mend_i\u001b[49m\u001b[43m)\u001b[49m\n",
      "\u001b[36mFile \u001b[39m\u001b[32mc:\\Users\\20232645\\AppData\\Local\\Programs\\Python\\Python311\\Lib\\site-packages\\pandas\\io\\formats\\csvs.py:324\u001b[39m, in \u001b[36mCSVFormatter._save_chunk\u001b[39m\u001b[34m(self, start_i, end_i)\u001b[39m\n\u001b[32m    321\u001b[39m data = \u001b[38;5;28mlist\u001b[39m(res._iter_column_arrays())\n\u001b[32m    323\u001b[39m ix = \u001b[38;5;28mself\u001b[39m.data_index[slicer]._get_values_for_csv(**\u001b[38;5;28mself\u001b[39m._number_format)\n\u001b[32m--> \u001b[39m\u001b[32m324\u001b[39m \u001b[43mlibwriters\u001b[49m\u001b[43m.\u001b[49m\u001b[43mwrite_csv_rows\u001b[49m\u001b[43m(\u001b[49m\n\u001b[32m    325\u001b[39m \u001b[43m    \u001b[49m\u001b[43mdata\u001b[49m\u001b[43m,\u001b[49m\n\u001b[32m    326\u001b[39m \u001b[43m    \u001b[49m\u001b[43mix\u001b[49m\u001b[43m,\u001b[49m\n\u001b[32m    327\u001b[39m \u001b[43m    \u001b[49m\u001b[38;5;28;43mself\u001b[39;49m\u001b[43m.\u001b[49m\u001b[43mnlevels\u001b[49m\u001b[43m,\u001b[49m\n\u001b[32m    328\u001b[39m \u001b[43m    \u001b[49m\u001b[38;5;28;43mself\u001b[39;49m\u001b[43m.\u001b[49m\u001b[43mcols\u001b[49m\u001b[43m,\u001b[49m\n\u001b[32m    329\u001b[39m \u001b[43m    \u001b[49m\u001b[38;5;28;43mself\u001b[39;49m\u001b[43m.\u001b[49m\u001b[43mwriter\u001b[49m\u001b[43m,\u001b[49m\n\u001b[32m    330\u001b[39m \u001b[43m\u001b[49m\u001b[43m)\u001b[49m\n",
      "\u001b[36mFile \u001b[39m\u001b[32mwriters.pyx:73\u001b[39m, in \u001b[36mpandas._libs.writers.write_csv_rows\u001b[39m\u001b[34m()\u001b[39m\n",
      "\u001b[31mKeyboardInterrupt\u001b[39m: "
     ]
    }
   ],
   "source": [
    "cleaned_london_data.to_csv('london_data.csv', index=False)"
   ]
  },
  {
   "cell_type": "markdown",
   "id": "b3a13061",
   "metadata": {},
   "source": [
    "SKIP HERE FOR ANALYSIS AND EXPLORATION OF CLEANED FILE"
   ]
  },
  {
   "cell_type": "markdown",
   "id": "611b1b71",
   "metadata": {},
   "source": [
    "Loading new csv file and getting it ready for future work"
   ]
  },
  {
   "cell_type": "code",
   "execution_count": 28,
   "id": "b10c7d6a",
   "metadata": {},
   "outputs": [],
   "source": [
    "import os\n",
    "import pandas as pd"
   ]
  },
  {
   "cell_type": "code",
   "execution_count": 29,
   "id": "851baf76",
   "metadata": {},
   "outputs": [
    {
     "data": {
      "text/html": [
       "<div>\n",
       "<style scoped>\n",
       "    .dataframe tbody tr th:only-of-type {\n",
       "        vertical-align: middle;\n",
       "    }\n",
       "\n",
       "    .dataframe tbody tr th {\n",
       "        vertical-align: top;\n",
       "    }\n",
       "\n",
       "    .dataframe thead th {\n",
       "        text-align: right;\n",
       "    }\n",
       "</style>\n",
       "<table border=\"1\" class=\"dataframe\">\n",
       "  <thead>\n",
       "    <tr style=\"text-align: right;\">\n",
       "      <th></th>\n",
       "      <th>Month</th>\n",
       "      <th>Falls within/Reported by</th>\n",
       "      <th>Longitude</th>\n",
       "      <th>Latitude</th>\n",
       "      <th>Location</th>\n",
       "      <th>LSOA code</th>\n",
       "      <th>Crime type</th>\n",
       "    </tr>\n",
       "  </thead>\n",
       "  <tbody>\n",
       "    <tr>\n",
       "      <th>0</th>\n",
       "      <td>2010-12</td>\n",
       "      <td>British Transport Police</td>\n",
       "      <td>0.165776</td>\n",
       "      <td>51.5442</td>\n",
       "      <td>On or near Dagenham East</td>\n",
       "      <td>E01000036</td>\n",
       "      <td>Anti-social behaviour</td>\n",
       "    </tr>\n",
       "    <tr>\n",
       "      <th>1</th>\n",
       "      <td>2010-12</td>\n",
       "      <td>British Transport Police</td>\n",
       "      <td>0.165776</td>\n",
       "      <td>51.5442</td>\n",
       "      <td>On or near Dagenham East</td>\n",
       "      <td>E01000036</td>\n",
       "      <td>Anti-social behaviour</td>\n",
       "    </tr>\n",
       "    <tr>\n",
       "      <th>2</th>\n",
       "      <td>2010-12</td>\n",
       "      <td>British Transport Police</td>\n",
       "      <td>0.165776</td>\n",
       "      <td>51.5442</td>\n",
       "      <td>On or near Dagenham East</td>\n",
       "      <td>E01000036</td>\n",
       "      <td>Violent crime</td>\n",
       "    </tr>\n",
       "    <tr>\n",
       "      <th>3</th>\n",
       "      <td>2010-12</td>\n",
       "      <td>British Transport Police</td>\n",
       "      <td>0.165776</td>\n",
       "      <td>51.5442</td>\n",
       "      <td>On or near Dagenham East</td>\n",
       "      <td>E01000036</td>\n",
       "      <td>Violent crime</td>\n",
       "    </tr>\n",
       "    <tr>\n",
       "      <th>4</th>\n",
       "      <td>2010-12</td>\n",
       "      <td>British Transport Police</td>\n",
       "      <td>0.165776</td>\n",
       "      <td>51.5442</td>\n",
       "      <td>On or near Dagenham East</td>\n",
       "      <td>E01000036</td>\n",
       "      <td>Violent crime</td>\n",
       "    </tr>\n",
       "  </tbody>\n",
       "</table>\n",
       "</div>"
      ],
      "text/plain": [
       "     Month  Falls within/Reported by  Longitude  Latitude  \\\n",
       "0  2010-12  British Transport Police   0.165776   51.5442   \n",
       "1  2010-12  British Transport Police   0.165776   51.5442   \n",
       "2  2010-12  British Transport Police   0.165776   51.5442   \n",
       "3  2010-12  British Transport Police   0.165776   51.5442   \n",
       "4  2010-12  British Transport Police   0.165776   51.5442   \n",
       "\n",
       "                   Location  LSOA code             Crime type  \n",
       "0  On or near Dagenham East  E01000036  Anti-social behaviour  \n",
       "1  On or near Dagenham East  E01000036  Anti-social behaviour  \n",
       "2  On or near Dagenham East  E01000036          Violent crime  \n",
       "3  On or near Dagenham East  E01000036          Violent crime  \n",
       "4  On or near Dagenham East  E01000036          Violent crime  "
      ]
     },
     "execution_count": 29,
     "metadata": {},
     "output_type": "execute_result"
    }
   ],
   "source": [
    "# Get directory and path for the csv file\n",
    "current_dir2 = os.getcwd()\n",
    "csv_filename2 = 'london_data.csv'  \n",
    "csv_path2 = os.path.join(current_dir2, csv_filename2)\n",
    "\n",
    "df = pd.read_csv(csv_path2)\n",
    "df.head()"
   ]
  },
  {
   "cell_type": "markdown",
   "id": "60697542",
   "metadata": {},
   "source": [
    "All crimes and their amounts that happened in London: "
   ]
  },
  {
   "cell_type": "code",
   "execution_count": 30,
   "id": "20fbee6c",
   "metadata": {},
   "outputs": [
    {
     "name": "stdout",
     "output_type": "stream",
     "text": [
      "Crime type\n",
      "Investigation complete; no suspect identified          7147189\n",
      "Anti-social behaviour                                  4473527\n",
      "Violence and sexual offences                           2976924\n",
      "Other theft                                            1813567\n",
      "Vehicle crime                                          1564603\n",
      "Burglary                                               1138550\n",
      "Criminal damage and arson                               909213\n",
      "Suspect charged                                         902310\n",
      "Shoplifting                                             719539\n",
      "Public order                                            696050\n",
      "Theft from the person                                   651241\n",
      "Other crime                                             626423\n",
      "Unable to prosecute suspect                             607665\n",
      "Drugs                                                   602790\n",
      "Robbery                                                 445325\n",
      "Violent crime                                           399746\n",
      "Bicycle theft                                           250932\n",
      "Local resolution                                        231671\n",
      "Offender given a caution                                203634\n",
      "Offender given a drugs possession warning               117062\n",
      "Offender sent to prison                                  96780\n",
      "Offender given penalty notice                            91504\n",
      "Defendant found not guilty                               79962\n",
      "Offender given community sentence                        78619\n",
      "Possession of weapons                                    70770\n",
      "Offender fined                                           66941\n",
      "Public disorder and weapons                              57836\n",
      "Offender given suspended prison sentence                 39719\n",
      "Offender given conditional discharge                     35274\n",
      "Court case unable to proceed                             30947\n",
      "Action to be taken by another organisation               19896\n",
      "Suspect charged as part of another case                  13803\n",
      "Further investigation is not in the public interest      12936\n",
      "Formal action is not in the public interest              11149\n",
      "Offender otherwise dealt with                             7996\n",
      "Offender ordered to pay compensation                      5089\n",
      "Offender deprived of property                             3514\n",
      "Further action is not in the public interest              2793\n",
      "Defendant sent to Crown Court                              946\n",
      "Offender given absolute discharge                          943\n",
      "Name: count, dtype: int64\n"
     ]
    }
   ],
   "source": [
    "crime_counts = df_london['Crime type'].value_counts()\n",
    "print(crime_counts)\n"
   ]
  },
  {
   "cell_type": "markdown",
   "id": "85688826",
   "metadata": {},
   "source": [
    "The percentage of the crime within all the crimes:"
   ]
  },
  {
   "cell_type": "code",
   "execution_count": 31,
   "id": "d0ef3a18",
   "metadata": {},
   "outputs": [
    {
     "name": "stdout",
     "output_type": "stream",
     "text": [
      "Crime type\n",
      "Investigation complete; no suspect identified          26.271236\n",
      "Anti-social behaviour                                  16.443539\n",
      "Violence and sexual offences                           10.942410\n",
      "Other theft                                             6.666208\n",
      "Vehicle crime                                           5.751080\n",
      "Burglary                                                4.185018\n",
      "Criminal damage and arson                               3.342034\n",
      "Suspect charged                                         3.316660\n",
      "Shoplifting                                             2.644841\n",
      "Public order                                            2.558501\n",
      "Theft from the person                                   2.393795\n",
      "Other crime                                             2.302570\n",
      "Unable to prosecute suspect                             2.233621\n",
      "Drugs                                                   2.215702\n",
      "Robbery                                                 1.636901\n",
      "Violent crime                                           1.469364\n",
      "Bicycle theft                                           0.922362\n",
      "Local resolution                                        0.851563\n",
      "Offender given a caution                                0.748506\n",
      "Offender given a drugs possession warning               0.430290\n",
      "Offender sent to prison                                 0.355738\n",
      "Offender given penalty notice                           0.336345\n",
      "Defendant found not guilty                              0.293920\n",
      "Offender given community sentence                       0.288983\n",
      "Possession of weapons                                   0.260132\n",
      "Offender fined                                          0.246058\n",
      "Public disorder and weapons                             0.212590\n",
      "Offender given suspended prison sentence                0.145997\n",
      "Offender given conditional discharge                    0.129658\n",
      "Court case unable to proceed                            0.113753\n",
      "Action to be taken by another organisation              0.073133\n",
      "Suspect charged as part of another case                 0.050736\n",
      "Further investigation is not in the public interest     0.047549\n",
      "Formal action is not in the public interest             0.040981\n",
      "Offender otherwise dealt with                           0.029391\n",
      "Offender ordered to pay compensation                    0.018706\n",
      "Offender deprived of property                           0.012917\n",
      "Further action is not in the public interest            0.010266\n",
      "Defendant sent to Crown Court                           0.003477\n",
      "Offender given absolute discharge                       0.003466\n",
      "Name: count, dtype: float64\n"
     ]
    }
   ],
   "source": [
    "crime_percentages = (crime_counts / crime_counts.sum()) * 100\n",
    "print(crime_percentages)\n"
   ]
  },
  {
   "cell_type": "markdown",
   "id": "7e445d0d",
   "metadata": {},
   "source": [
    "The trends over time:"
   ]
  },
  {
   "cell_type": "code",
   "execution_count": 33,
   "id": "9e07d0b3",
   "metadata": {},
   "outputs": [
    {
     "name": "stdout",
     "output_type": "stream",
     "text": [
      "Crime type  Action to be taken by another organisation  Anti-social behaviour  \\\n",
      "Month                                                                           \n",
      "2010-12                                            0.0                77430.0   \n",
      "2011-01                                            0.0                74927.0   \n",
      "2011-02                                            0.0                35938.0   \n",
      "2011-03                                            0.0                40102.0   \n",
      "2011-04                                            0.0                45614.0   \n",
      "...                                                ...                    ...   \n",
      "2024-10                                          759.0                21726.0   \n",
      "2024-11                                         1100.0                19417.0   \n",
      "2024-12                                          713.0                16837.0   \n",
      "2025-01                                          637.0                17038.0   \n",
      "2025-02                                          690.0                16195.0   \n",
      "\n",
      "Crime type  Bicycle theft  Burglary  Court case unable to proceed  \\\n",
      "Month                                                               \n",
      "2010-12               0.0   17246.0                           0.0   \n",
      "2011-01               0.0   19747.0                           0.0   \n",
      "2011-02               0.0    8640.0                           0.0   \n",
      "2011-03               0.0    9131.0                           0.0   \n",
      "2011-04               0.0    8323.0                           0.0   \n",
      "...                   ...       ...                           ...   \n",
      "2024-10            1631.0    5012.0                           0.0   \n",
      "2024-11            1382.0    5009.0                           0.0   \n",
      "2024-12             954.0    5127.0                           0.0   \n",
      "2025-01             917.0    4834.0                           0.0   \n",
      "2025-02             895.0    4105.0                           0.0   \n",
      "\n",
      "Crime type  Criminal damage and arson  Defendant found not guilty  \\\n",
      "Month                                                               \n",
      "2010-12                           0.0                         0.0   \n",
      "2011-01                           0.0                         0.0   \n",
      "2011-02                           0.0                         0.0   \n",
      "2011-03                           0.0                         0.0   \n",
      "2011-04                           0.0                         0.0   \n",
      "...                               ...                         ...   \n",
      "2024-10                        5383.0                         0.0   \n",
      "2024-11                        5348.0                         0.0   \n",
      "2024-12                        4838.0                         0.0   \n",
      "2025-01                        4879.0                         0.0   \n",
      "2025-02                        4628.0                         0.0   \n",
      "\n",
      "Crime type  Defendant sent to Crown Court   Drugs  \\\n",
      "Month                                               \n",
      "2010-12                               0.0     0.0   \n",
      "2011-01                               0.0     0.0   \n",
      "2011-02                               0.0     0.0   \n",
      "2011-03                               0.0     0.0   \n",
      "2011-04                               0.0     0.0   \n",
      "...                                   ...     ...   \n",
      "2024-10                               0.0  4427.0   \n",
      "2024-11                               0.0  4648.0   \n",
      "2024-12                               0.0  4340.0   \n",
      "2025-01                               0.0  4546.0   \n",
      "2025-02                               0.0  4020.0   \n",
      "\n",
      "Crime type  Formal action is not in the public interest  ...  Public order  \\\n",
      "Month                                                    ...                 \n",
      "2010-12                                             0.0  ...           0.0   \n",
      "2011-01                                             0.0  ...           0.0   \n",
      "2011-02                                             0.0  ...           0.0   \n",
      "2011-03                                             0.0  ...           0.0   \n",
      "2011-04                                             0.0  ...           0.0   \n",
      "...                                                 ...  ...           ...   \n",
      "2024-10                                           140.0  ...        5824.0   \n",
      "2024-11                                           104.0  ...        5404.0   \n",
      "2024-12                                           120.0  ...        4808.0   \n",
      "2025-01                                           158.0  ...        4812.0   \n",
      "2025-02                                           149.0  ...        4269.0   \n",
      "\n",
      "Crime type  Robbery  Shoplifting  Suspect charged  \\\n",
      "Month                                               \n",
      "2010-12      5784.0          0.0              0.0   \n",
      "2011-01      6741.0          0.0              0.0   \n",
      "2011-02      3222.0          0.0              0.0   \n",
      "2011-03      3364.0          0.0              0.0   \n",
      "2011-04      3299.0          0.0              0.0   \n",
      "...             ...          ...              ...   \n",
      "2024-10      3258.0       9109.0           6059.0   \n",
      "2024-11      3087.0       8908.0           6213.0   \n",
      "2024-12      2900.0       7511.0           6263.0   \n",
      "2025-01      2636.0       7811.0           7194.0   \n",
      "2025-02      2524.0       7705.0           7970.0   \n",
      "\n",
      "Crime type  Suspect charged as part of another case  Theft from the person  \\\n",
      "Month                                                                        \n",
      "2010-12                                         0.0                    0.0   \n",
      "2011-01                                         0.0                    0.0   \n",
      "2011-02                                         0.0                    0.0   \n",
      "2011-03                                         0.0                    0.0   \n",
      "2011-04                                         0.0                    0.0   \n",
      "...                                             ...                    ...   \n",
      "2024-10                                         3.0                 9505.0   \n",
      "2024-11                                         8.0                10804.0   \n",
      "2024-12                                         2.0                10179.0   \n",
      "2025-01                                         7.0                 8079.0   \n",
      "2025-02                                         0.0                 8123.0   \n",
      "\n",
      "Crime type  Unable to prosecute suspect  Vehicle crime  \\\n",
      "Month                                                    \n",
      "2010-12                             0.0        16250.0   \n",
      "2011-01                             0.0        18010.0   \n",
      "2011-02                             0.0         8311.0   \n",
      "2011-03                             0.0         9340.0   \n",
      "2011-04                             0.0         9033.0   \n",
      "...                                 ...            ...   \n",
      "2024-10                         32177.0         8991.0   \n",
      "2024-11                         31295.0         8607.0   \n",
      "2024-12                         24430.0         7765.0   \n",
      "2025-01                         30323.0         7965.0   \n",
      "2025-02                         30290.0         7630.0   \n",
      "\n",
      "Crime type  Violence and sexual offences  Violent crime  \n",
      "Month                                                    \n",
      "2010-12                              0.0        26098.0  \n",
      "2011-01                              0.0        27669.0  \n",
      "2011-02                              0.0        13105.0  \n",
      "2011-03                              0.0        14370.0  \n",
      "2011-04                              0.0        14671.0  \n",
      "...                                  ...            ...  \n",
      "2024-10                          24998.0            0.0  \n",
      "2024-11                          24253.0            0.0  \n",
      "2024-12                          24019.0            0.0  \n",
      "2025-01                          22600.0            0.0  \n",
      "2025-02                          21689.0            0.0  \n",
      "\n",
      "[171 rows x 40 columns]\n"
     ]
    }
   ],
   "source": [
    "df_london['Month'] = pd.to_datetime(df_london['Month'], errors='coerce')\n",
    "trend = df_london.groupby([df_london['Month'].dt.to_period('M'), 'Crime type']).size().unstack().fillna(0)\n",
    "print(trend)"
   ]
  }
 ],
 "metadata": {
  "kernelspec": {
   "display_name": "Python 3",
   "language": "python",
   "name": "python3"
  },
  "language_info": {
   "codemirror_mode": {
    "name": "ipython",
    "version": 3
   },
   "file_extension": ".py",
   "mimetype": "text/x-python",
   "name": "python",
   "nbconvert_exporter": "python",
   "pygments_lexer": "ipython3",
   "version": "3.11.9"
  }
 },
 "nbformat": 4,
 "nbformat_minor": 5
}
